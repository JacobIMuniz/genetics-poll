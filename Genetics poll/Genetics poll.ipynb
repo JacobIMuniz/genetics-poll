{
 "cells": [
  {
   "cell_type": "code",
   "execution_count": null,
   "metadata": {
    "collapsed": true
   },
   "outputs": [],
   "source": []
  },
  {
   "cell_type": "code",
   "execution_count": null,
   "outputs": [],
   "source": [
    "from tkinter import *\n",
    "window = Tk()\n",
    "\n",
    "#window Dimentions and configurations\n",
    "window.geometry(\"840x660\")\n",
    "window.title(\"Genetics on campus\")\n",
    "headerimg = PhotoImage(file='genetics.png')\n",
    "window.iconphoto(True, headerimg)\n",
    "\n",
    "#Menu title & settings\n",
    "TestLabel = Label(window,text=\"Main Menu\",\n",
    "                  font=('TimesNewRoman',18,'bold'),\n",
    "                  relief=RAISED,\n",
    "                  bd=5,\n",
    "                  padx=50,\n",
    "                  pady=5)\n",
    "TestLabel.pack()\n",
    "\n",
    "#menu options\n",
    "'''\n",
    "add commands to (def click:) and associated code to add\n",
    "the graphs and such, this is still a WIP so bear with me!\n",
    ":)\n",
    "\n",
    "'''\n",
    "def click():\n",
    "    print('Good job! you made a working button!!!')\n",
    "\n",
    "\n",
    "option1 = Button(window,\n",
    "                 text=\"selection 1\",\n",
    "                 command=click,\n",
    "                 font=(\"TimesNewRoman\",14)\n",
    "                 )\n",
    "option1.pack()\n",
    "\n",
    "#allows window to loop and respond to inputs\n",
    "window.mainloop()\n"
   ],
   "metadata": {
    "collapsed": false
   }
  }
 ],
 "metadata": {
  "kernelspec": {
   "display_name": "Python 3",
   "language": "python",
   "name": "python3"
  },
  "language_info": {
   "codemirror_mode": {
    "name": "ipython",
    "version": 2
   },
   "file_extension": ".py",
   "mimetype": "text/x-python",
   "name": "python",
   "nbconvert_exporter": "python",
   "pygments_lexer": "ipython2",
   "version": "2.7.6"
  }
 },
 "nbformat": 4,
 "nbformat_minor": 0
}
